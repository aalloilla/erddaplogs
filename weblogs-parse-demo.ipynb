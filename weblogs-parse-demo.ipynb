{
 "cells": [
  {
   "cell_type": "code",
   "execution_count": 20,
   "id": "ead8a696-231d-46ad-8ac8-cc13927d3a02",
   "metadata": {},
   "outputs": [],
   "source": [
    "from erddaplogs.logparse import ErddapLogParser"
   ]
  },
  {
   "cell_type": "markdown",
   "id": "34f5883e-7d4d-4d77-b8ad-dfee1ceb3a98",
   "metadata": {},
   "source": [
    "# Instantiate parser and set verbosity\n",
    "\n",
    "(False to disable print messages)"
   ]
  },
  {
   "cell_type": "code",
   "execution_count": 21,
   "id": "a03a6212-7484-423d-a7d3-df60d9f4e8b4",
   "metadata": {},
   "outputs": [],
   "source": [
    "parser = ErddapLogParser()\n",
    "parser.verbose=True"
   ]
  },
  {
   "cell_type": "markdown",
   "id": "9b8c0b5b-18e7-4d6e-b78f-f83810c10adc",
   "metadata": {},
   "source": [
    "### set path to apache and/or nginx files"
   ]
  },
  {
   "cell_type": "code",
   "execution_count": 22,
   "id": "f9cd6710-897e-476a-bcaa-0fff71a430db",
   "metadata": {},
   "outputs": [],
   "source": [
    "#apache_logs_dir = \"path/to/your/apache/logs/\"\n",
    "nginx_logs_dir = \"example_data/nginx_example_logs/\""
   ]
  },
  {
   "cell_type": "markdown",
   "id": "e888ef18-b3c6-462d-8a44-0e16161981b5",
   "metadata": {},
   "source": [
    "### load log files\n",
    "\n",
    "Can call just apache or just nginx as needed. File name allows for wildcard."
   ]
  },
  {
   "cell_type": "code",
   "execution_count": 23,
   "id": "00c2ec2a-9246-4940-8eac-1b1a5d885ad6",
   "metadata": {},
   "outputs": [
    {
     "name": "stdout",
     "output_type": "stream",
     "text": [
      "loaded 10479 log lines from example_data/nginx_example_logs/\n",
      "DataFrame now has 10241 lines\n"
     ]
    }
   ],
   "source": [
    "#parser.load_apache_logs(apache_logs_dir,\"*access.log*\")\n",
    "parser.load_nginx_logs(nginx_logs_dir,\"*tomcat-access*\")\n"
   ]
  },
  {
   "cell_type": "markdown",
   "id": "e04e676d-d6ea-45c9-ae96-dd8c4f311050",
   "metadata": {},
   "source": [
    "**optional** subset datasetframe to desired number of rows, evenly spaced in time. Useful for tuning/testing"
   ]
  },
  {
   "cell_type": "code",
   "execution_count": null,
   "id": "5f884673-bb18-42ff-8110-035ebc264ce4",
   "metadata": {},
   "outputs": [],
   "source": [
    "#parser.subset_df(rows=1000) "
   ]
  },
  {
   "cell_type": "code",
   "execution_count": 24,
   "id": "7b24ae15-9073-4880-94e7-1e1c5317e52c",
   "metadata": {},
   "outputs": [
    {
     "name": "stdout",
     "output_type": "stream",
     "text": [
      "Filter non erddap dropped 908 lines. Length of dataset is now 91 % of original\n",
      "Filter spam dropped 118 lines. Length of dataset is now 89 % of original\n",
      "Filter locales dropped 0 lines. Length of dataset is now 89 % of original\n",
      "Filter user agents dropped 1041 lines. Length of dataset is now 79 % of original\n",
      "Filter common strings dropped 742 lines. Length of dataset is now 72 % of original\n"
     ]
    }
   ],
   "source": [
    "parser.filter_non_erddap()\n",
    "parser.filter_spam()\n",
    "parser.filter_locales()\n",
    "parser.filter_user_agents()\n",
    "parser.filter_common_strings()"
   ]
  },
  {
   "cell_type": "markdown",
   "id": "2d266936-f3ff-45a0-9bb1-34732b5242ac",
   "metadata": {},
   "source": [
    "# get info on ip addresses"
   ]
  },
  {
   "cell_type": "code",
   "execution_count": 25,
   "id": "d484b7c5-1bdc-4d9b-920c-4f8b0ebc17f2",
   "metadata": {},
   "outputs": [
    {
     "name": "stdout",
     "output_type": "stream",
     "text": [
      "We have info on 790 ip address\n",
      "Filter organisations dropped 4 lines. Length of dataset is now 72 % of original\n"
     ]
    }
   ],
   "source": [
    "parser.get_ip_info(download_new=True)\n",
    "parser.filter_organisations()\n"
   ]
  },
  {
   "cell_type": "markdown",
   "id": "8734aa11-a7b3-41b3-814a-e0f831f976b4",
   "metadata": {},
   "source": [
    "### Optional: read in datasets.xml\n",
    "\n",
    "This adds another column of data: the dataset type in ERDDAP"
   ]
  },
  {
   "cell_type": "code",
   "execution_count": 26,
   "id": "604654b1-7681-4acf-8967-09545ab20f07",
   "metadata": {},
   "outputs": [],
   "source": [
    "parser.parse_datasets_xml(\"example_data/datasets.xml\")"
   ]
  },
  {
   "cell_type": "markdown",
   "id": "8874dd92-7b0e-4573-870f-454b927933d8",
   "metadata": {},
   "source": [
    "# Parse string data for additional columns"
   ]
  },
  {
   "cell_type": "code",
   "execution_count": 27,
   "id": "d7ab07c0-6825-4f13-ad63-216e9de16d18",
   "metadata": {},
   "outputs": [],
   "source": [
    "parser.parse_columns()"
   ]
  },
  {
   "cell_type": "markdown",
   "id": "736bfa3a-ab71-4b3c-98af-71c6f09411e8",
   "metadata": {},
   "source": [
    "# Get requests dataframe"
   ]
  },
  {
   "cell_type": "code",
   "execution_count": 28,
   "id": "9d480d86-d273-4c59-b250-72588b8dd400",
   "metadata": {},
   "outputs": [
    {
     "data": {
      "text/html": [
       "<div><style>\n",
       ".dataframe > thead > tr,\n",
       ".dataframe > tbody > tr {\n",
       "  text-align: right;\n",
       "  white-space: pre-wrap;\n",
       "}\n",
       "</style>\n",
       "<small>shape: (5, 30)</small><table border=\"1\" class=\"dataframe\"><thead><tr><th>ip</th><th>datetime</th><th>url</th><th>user-agent</th><th>status-code</th><th>bytes-sent</th><th>referer</th><th>status</th><th>country</th><th>countryCode</th><th>region</th><th>regionName</th><th>city</th><th>zip</th><th>lat</th><th>lon</th><th>timezone</th><th>isp</th><th>org</th><th>as</th><th>message</th><th>base_url</th><th>erddap_request_type</th><th>dataset_id</th><th>request_kwargs</th><th>file_type</th><th>user_agent_base</th><th>ip_group</th><th>ip_subnet</th><th>dataset_type</th></tr><tr><td>str</td><td>datetime[μs]</td><td>str</td><td>str</td><td>i64</td><td>i64</td><td>str</td><td>str</td><td>str</td><td>str</td><td>str</td><td>str</td><td>str</td><td>str</td><td>f64</td><td>f64</td><td>str</td><td>str</td><td>str</td><td>str</td><td>str</td><td>str</td><td>str</td><td>str</td><td>str</td><td>str</td><td>str</td><td>str</td><td>str</td><td>str</td></tr></thead><tbody><tr><td>&quot;171.177.25.126…</td><td>2024-05-12 00:00:17</td><td>&quot;/erddap/tabled…</td><td>&quot;python-request…</td><td>200</td><td>594982</td><td>&quot;&quot;-&quot;&quot;</td><td>&quot;success&quot;</td><td>&quot;United States&quot;</td><td>&quot;US&quot;</td><td>&quot;CA&quot;</td><td>&quot;California&quot;</td><td>&quot;Concord&quot;</td><td>&quot;94520&quot;</td><td>37.974</td><td>-122.033</td><td>&quot;America/Los_An…</td><td>&quot;Bank of Americ…</td><td>&quot;Bank of Americ…</td><td>&quot;&quot;</td><td>null</td><td>&quot;/erddap/tabled…</td><td>&quot;tabledap&quot;</td><td>&quot;allDatasets&quot;</td><td>&quot;None&quot;</td><td>&quot;csv&quot;</td><td>&quot;python-request…</td><td>&quot;171.177&quot;</td><td>&quot;171.177.25&quot;</td><td>null</td></tr><tr><td>&quot;237.85.78.47&quot;</td><td>2024-05-12 00:08:38</td><td>&quot;/erddap/subscr…</td><td>&quot;curl/7.54.0&quot;</td><td>200</td><td>10797</td><td>&quot;&quot;-&quot;&quot;</td><td>&quot;fail&quot;</td><td>&quot;unknown&quot;</td><td>null</td><td>null</td><td>null</td><td>null</td><td>null</td><td>0.0</td><td>0.0</td><td>null</td><td>&quot;unknown&quot;</td><td>&quot;unknown&quot;</td><td>null</td><td>&quot;reserved range…</td><td>&quot;/erddap/subscr…</td><td>&quot;None&quot;</td><td>&quot;add&quot;</td><td>&quot;datasetID=nrt_…</td><td>&quot;html&quot;</td><td>&quot;curl&quot;</td><td>&quot;237.85&quot;</td><td>&quot;237.85.78&quot;</td><td>null</td></tr><tr><td>&quot;237.85.78.47&quot;</td><td>2024-05-12 00:08:43</td><td>&quot;/erddap/subscr…</td><td>&quot;curl/7.54.0&quot;</td><td>200</td><td>10804</td><td>&quot;&quot;-&quot;&quot;</td><td>&quot;fail&quot;</td><td>&quot;unknown&quot;</td><td>null</td><td>null</td><td>null</td><td>null</td><td>null</td><td>0.0</td><td>0.0</td><td>null</td><td>&quot;unknown&quot;</td><td>&quot;unknown&quot;</td><td>null</td><td>&quot;reserved range…</td><td>&quot;/erddap/subscr…</td><td>&quot;None&quot;</td><td>&quot;add&quot;</td><td>&quot;datasetID=nrt_…</td><td>&quot;html&quot;</td><td>&quot;curl&quot;</td><td>&quot;237.85&quot;</td><td>&quot;237.85.78&quot;</td><td>null</td></tr><tr><td>&quot;237.85.78.47&quot;</td><td>2024-05-12 00:08:43</td><td>&quot;/erddap/subscr…</td><td>&quot;curl/7.54.0&quot;</td><td>200</td><td>10804</td><td>&quot;&quot;-&quot;&quot;</td><td>&quot;fail&quot;</td><td>&quot;unknown&quot;</td><td>null</td><td>null</td><td>null</td><td>null</td><td>null</td><td>0.0</td><td>0.0</td><td>null</td><td>&quot;unknown&quot;</td><td>&quot;unknown&quot;</td><td>null</td><td>&quot;reserved range…</td><td>&quot;/erddap/subscr…</td><td>&quot;None&quot;</td><td>&quot;add&quot;</td><td>&quot;datasetID=nrt_…</td><td>&quot;html&quot;</td><td>&quot;curl&quot;</td><td>&quot;237.85&quot;</td><td>&quot;237.85.78&quot;</td><td>null</td></tr><tr><td>&quot;237.85.78.47&quot;</td><td>2024-05-12 00:08:48</td><td>&quot;/erddap/subscr…</td><td>&quot;curl/7.54.0&quot;</td><td>200</td><td>10804</td><td>&quot;&quot;-&quot;&quot;</td><td>&quot;fail&quot;</td><td>&quot;unknown&quot;</td><td>null</td><td>null</td><td>null</td><td>null</td><td>null</td><td>0.0</td><td>0.0</td><td>null</td><td>&quot;unknown&quot;</td><td>&quot;unknown&quot;</td><td>null</td><td>&quot;reserved range…</td><td>&quot;/erddap/subscr…</td><td>&quot;None&quot;</td><td>&quot;add&quot;</td><td>&quot;datasetID=nrt_…</td><td>&quot;html&quot;</td><td>&quot;curl&quot;</td><td>&quot;237.85&quot;</td><td>&quot;237.85.78&quot;</td><td>null</td></tr></tbody></table></div>"
      ],
      "text/plain": [
       "shape: (5, 30)\n",
       "┌───────────┬───────────┬───────────┬───────────┬───┬───────────┬──────────┬───────────┬───────────┐\n",
       "│ ip        ┆ datetime  ┆ url       ┆ user-agen ┆ … ┆ user_agen ┆ ip_group ┆ ip_subnet ┆ dataset_t │\n",
       "│ ---       ┆ ---       ┆ ---       ┆ t         ┆   ┆ t_base    ┆ ---      ┆ ---       ┆ ype       │\n",
       "│ str       ┆ datetime[ ┆ str       ┆ ---       ┆   ┆ ---       ┆ str      ┆ str       ┆ ---       │\n",
       "│           ┆ μs]       ┆           ┆ str       ┆   ┆ str       ┆          ┆           ┆ str       │\n",
       "╞═══════════╪═══════════╪═══════════╪═══════════╪═══╪═══════════╪══════════╪═══════════╪═══════════╡\n",
       "│ 171.177.2 ┆ 2024-05-1 ┆ /erddap/t ┆ python-re ┆ … ┆ python-re ┆ 171.177  ┆ 171.177.2 ┆ null      │\n",
       "│ 5.126     ┆ 2         ┆ abledap/a ┆ quests/2. ┆   ┆ quests    ┆          ┆ 5         ┆           │\n",
       "│           ┆ 00:00:17  ┆ llDataset ┆ 28.1      ┆   ┆           ┆          ┆           ┆           │\n",
       "│           ┆           ┆ s.csv…    ┆           ┆   ┆           ┆          ┆           ┆           │\n",
       "│ 237.85.78 ┆ 2024-05-1 ┆ /erddap/s ┆ curl/7.54 ┆ … ┆ curl      ┆ 237.85   ┆ 237.85.78 ┆ null      │\n",
       "│ .47       ┆ 2         ┆ ubscripti ┆ .0        ┆   ┆           ┆          ┆           ┆           │\n",
       "│           ┆ 00:08:38  ┆ ons/add.h ┆           ┆   ┆           ┆          ┆           ┆           │\n",
       "│           ┆           ┆ tml?d…    ┆           ┆   ┆           ┆          ┆           ┆           │\n",
       "│ 237.85.78 ┆ 2024-05-1 ┆ /erddap/s ┆ curl/7.54 ┆ … ┆ curl      ┆ 237.85   ┆ 237.85.78 ┆ null      │\n",
       "│ .47       ┆ 2         ┆ ubscripti ┆ .0        ┆   ┆           ┆          ┆           ┆           │\n",
       "│           ┆ 00:08:43  ┆ ons/add.h ┆           ┆   ┆           ┆          ┆           ┆           │\n",
       "│           ┆           ┆ tml?d…    ┆           ┆   ┆           ┆          ┆           ┆           │\n",
       "│ 237.85.78 ┆ 2024-05-1 ┆ /erddap/s ┆ curl/7.54 ┆ … ┆ curl      ┆ 237.85   ┆ 237.85.78 ┆ null      │\n",
       "│ .47       ┆ 2         ┆ ubscripti ┆ .0        ┆   ┆           ┆          ┆           ┆           │\n",
       "│           ┆ 00:08:43  ┆ ons/add.h ┆           ┆   ┆           ┆          ┆           ┆           │\n",
       "│           ┆           ┆ tml?d…    ┆           ┆   ┆           ┆          ┆           ┆           │\n",
       "│ 237.85.78 ┆ 2024-05-1 ┆ /erddap/s ┆ curl/7.54 ┆ … ┆ curl      ┆ 237.85   ┆ 237.85.78 ┆ null      │\n",
       "│ .47       ┆ 2         ┆ ubscripti ┆ .0        ┆   ┆           ┆          ┆           ┆           │\n",
       "│           ┆ 00:08:48  ┆ ons/add.h ┆           ┆   ┆           ┆          ┆           ┆           │\n",
       "│           ┆           ┆ tml?d…    ┆           ┆   ┆           ┆          ┆           ┆           │\n",
       "└───────────┴───────────┴───────────┴───────────┴───┴───────────┴──────────┴───────────┴───────────┘"
      ]
     },
     "execution_count": 28,
     "metadata": {},
     "output_type": "execute_result"
    }
   ],
   "source": [
    "df = parser.df\n",
    "df.head()"
   ]
  },
  {
   "cell_type": "markdown",
   "id": "0b093685-f8aa-40cb-ae1f-f546d0a68750",
   "metadata": {},
   "source": [
    "You can also check out the ip dataframe"
   ]
  },
  {
   "cell_type": "code",
   "execution_count": 29,
   "id": "4ea9603b-dcef-4849-b641-b401868a3a33",
   "metadata": {},
   "outputs": [
    {
     "data": {
      "text/html": [
       "<div><style>\n",
       ".dataframe > thead > tr,\n",
       ".dataframe > tbody > tr {\n",
       "  text-align: right;\n",
       "  white-space: pre-wrap;\n",
       "}\n",
       "</style>\n",
       "<small>shape: (5, 15)</small><table border=\"1\" class=\"dataframe\"><thead><tr><th>status</th><th>country</th><th>countryCode</th><th>region</th><th>regionName</th><th>city</th><th>zip</th><th>lat</th><th>lon</th><th>timezone</th><th>isp</th><th>org</th><th>as</th><th>query</th><th>message</th></tr><tr><td>str</td><td>str</td><td>str</td><td>str</td><td>str</td><td>str</td><td>str</td><td>f64</td><td>f64</td><td>str</td><td>str</td><td>str</td><td>str</td><td>str</td><td>str</td></tr></thead><tbody><tr><td>&quot;success&quot;</td><td>&quot;United States&quot;</td><td>&quot;US&quot;</td><td>&quot;CA&quot;</td><td>&quot;California&quot;</td><td>&quot;Redwood City&quot;</td><td>&quot;94065&quot;</td><td>37.5307</td><td>-122.262</td><td>&quot;America/Los_An…</td><td>&quot;Oracle Corpora…</td><td>&quot;Oracle Corpora…</td><td>&quot;&quot;</td><td>&quot;148.87.179.6&quot;</td><td>null</td></tr><tr><td>&quot;success&quot;</td><td>&quot;United States&quot;</td><td>&quot;US&quot;</td><td>&quot;CA&quot;</td><td>&quot;California&quot;</td><td>&quot;Concord&quot;</td><td>&quot;94520&quot;</td><td>37.974</td><td>-122.033</td><td>&quot;America/Los_An…</td><td>&quot;Bank of Americ…</td><td>&quot;Bank of Americ…</td><td>&quot;&quot;</td><td>&quot;171.177.25.126…</td><td>null</td></tr><tr><td>&quot;success&quot;</td><td>&quot;South Korea&quot;</td><td>&quot;KR&quot;</td><td>&quot;44&quot;</td><td>&quot;Chungcheongnam…</td><td>&quot;Asan&quot;</td><td>&quot;314&quot;</td><td>36.894</td><td>126.8877</td><td>&quot;Asia/Seoul&quot;</td><td>&quot;LG DACOM Corpo…</td><td>&quot;Boranet&quot;</td><td>&quot;AS3786 LG DACO…</td><td>&quot;1.221.158.96&quot;</td><td>null</td></tr><tr><td>&quot;success&quot;</td><td>&quot;France&quot;</td><td>&quot;FR&quot;</td><td>&quot;BRE&quot;</td><td>&quot;Brittany&quot;</td><td>&quot;Trémuson&quot;</td><td>&quot;22440&quot;</td><td>48.5215</td><td>-2.8527</td><td>&quot;Europe/Paris&quot;</td><td>&quot;VERDUR&quot;</td><td>&quot;&quot;</td><td>&quot;AS2200 Renater…</td><td>&quot;129.20.223.66&quot;</td><td>null</td></tr><tr><td>&quot;success&quot;</td><td>&quot;United Kingdom…</td><td>&quot;GB&quot;</td><td>&quot;ENG&quot;</td><td>&quot;England&quot;</td><td>&quot;Bromley&quot;</td><td>&quot;BR1&quot;</td><td>51.4043</td><td>0.0146713</td><td>&quot;Europe/London&quot;</td><td>&quot;Selection Serv…</td><td>&quot;Selection Serv…</td><td>&quot;&quot;</td><td>&quot;78.40.63.239&quot;</td><td>null</td></tr></tbody></table></div>"
      ],
      "text/plain": [
       "shape: (5, 15)\n",
       "┌─────────┬─────────┬─────────────┬────────┬───┬─────────────┬─────────────┬─────────────┬─────────┐\n",
       "│ status  ┆ country ┆ countryCode ┆ region ┆ … ┆ org         ┆ as          ┆ query       ┆ message │\n",
       "│ ---     ┆ ---     ┆ ---         ┆ ---    ┆   ┆ ---         ┆ ---         ┆ ---         ┆ ---     │\n",
       "│ str     ┆ str     ┆ str         ┆ str    ┆   ┆ str         ┆ str         ┆ str         ┆ str     │\n",
       "╞═════════╪═════════╪═════════════╪════════╪═══╪═════════════╪═════════════╪═════════════╪═════════╡\n",
       "│ success ┆ United  ┆ US          ┆ CA     ┆ … ┆ Oracle      ┆             ┆ 148.87.179. ┆ null    │\n",
       "│         ┆ States  ┆             ┆        ┆   ┆ Corporation ┆             ┆ 6           ┆         │\n",
       "│ success ┆ United  ┆ US          ┆ CA     ┆ … ┆ Bank of     ┆             ┆ 171.177.25. ┆ null    │\n",
       "│         ┆ States  ┆             ┆        ┆   ┆ America,    ┆             ┆ 126         ┆         │\n",
       "│         ┆         ┆             ┆        ┆   ┆ National    ┆             ┆             ┆         │\n",
       "│         ┆         ┆             ┆        ┆   ┆ Associ…     ┆             ┆             ┆         │\n",
       "│ success ┆ South   ┆ KR          ┆ 44     ┆ … ┆ Boranet     ┆ AS3786 LG   ┆ 1.221.158.9 ┆ null    │\n",
       "│         ┆ Korea   ┆             ┆        ┆   ┆             ┆ DACOM       ┆ 6           ┆         │\n",
       "│         ┆         ┆             ┆        ┆   ┆             ┆ Corporation ┆             ┆         │\n",
       "│ success ┆ France  ┆ FR          ┆ BRE    ┆ … ┆             ┆ AS2200      ┆ 129.20.223. ┆ null    │\n",
       "│         ┆         ┆             ┆        ┆   ┆             ┆ Renater     ┆ 66          ┆         │\n",
       "│ success ┆ United  ┆ GB          ┆ ENG    ┆ … ┆ Selection   ┆             ┆ 78.40.63.23 ┆ null    │\n",
       "│         ┆ Kingdom ┆             ┆        ┆   ┆ Services    ┆             ┆ 9           ┆         │\n",
       "│         ┆         ┆             ┆        ┆   ┆ Ltd         ┆             ┆             ┆         │\n",
       "└─────────┴─────────┴─────────────┴────────┴───┴─────────────┴─────────────┴─────────────┴─────────┘"
      ]
     },
     "execution_count": 29,
     "metadata": {},
     "output_type": "execute_result"
    }
   ],
   "source": [
    "df_ip = parser.ip\n",
    "df_ip.head()"
   ]
  },
  {
   "cell_type": "markdown",
   "id": "09696dd6-bc0f-4c24-a490-b90a2217d609",
   "metadata": {},
   "source": [
    "# Plotting the results\n",
    "\n",
    "This additional functionality requires several extra packages\n",
    "\n"
   ]
  },
  {
   "cell_type": "code",
   "execution_count": 30,
   "id": "111adb3a-ee99-45e9-816a-e82e17898860",
   "metadata": {},
   "outputs": [],
   "source": [
    "import erddaplogs.plot_functions as plot_functions"
   ]
  },
  {
   "cell_type": "markdown",
   "id": "364919e6-7667-426e-ba29-1de4f96fb452",
   "metadata": {},
   "source": [
    "Plot requests summed over a user specified number of days"
   ]
  },
  {
   "cell_type": "code",
   "execution_count": 31,
   "id": "40f5f5d6-cbfd-44bd-9cc4-2ee35bafb9ec",
   "metadata": {},
   "outputs": [
    {
     "data": {
      "image/png": "[encoded data removed]",
      "text/plain": [
       "<Figure size 1200x800 with 1 Axes>"
      ]
     },
     "metadata": {},
     "output_type": "display_data"
    }
   ],
   "source": [
    "plot_functions.plot_daily_requests(df, num_days=1)"
   ]
  },
  {
   "cell_type": "markdown",
   "id": "4da43ae2-6542-4aa3-98df-8c6f479fc893",
   "metadata": {},
   "source": [
    "Plot the total size of requests summed over a number of days"
   ]
  },
  {
   "cell_type": "code",
   "execution_count": null,
   "id": "79dfdc62-683c-46ea-9430-db3110764109",
   "metadata": {},
   "outputs": [],
   "source": [
    "plot_functions.plot_bytes(df)"
   ]
  },
  {
   "cell_type": "markdown",
   "id": "68a538c0-2854-4804-ad0e-e8a578fba40f",
   "metadata": {},
   "source": [
    "Plot the most popular values for chosen columns. This function returns a dataframe of the top results"
   ]
  },
  {
   "cell_type": "code",
   "execution_count": null,
   "id": "e500db6e-bda1-42b8-b759-1f75666ba4e0",
   "metadata": {},
   "outputs": [],
   "source": [
    "plot_functions.plot_most_popular(df, col_name='dataset_id');"
   ]
  },
  {
   "cell_type": "markdown",
   "id": "cf656a38-da1a-4239-b278-631601717fd7",
   "metadata": {},
   "source": [
    "The ERDDAP request type will be one of: griddap, tabledap, info, files, unknown"
   ]
  },
  {
   "cell_type": "code",
   "execution_count": null,
   "id": "f1cb6dc9-33ef-4963-b9d7-1efeaae80aa0",
   "metadata": {},
   "outputs": [],
   "source": [
    "plot_functions.plot_most_popular(df, col_name='erddap_request_type');"
   ]
  },
  {
   "cell_type": "code",
   "execution_count": null,
   "id": "eaf7e210-a5b5-496b-a480-f0d3b3d34cf1",
   "metadata": {},
   "outputs": [],
   "source": [
    "plot_functions.plot_most_popular(df, col_name='user-agent', rows=20);"
   ]
  },
  {
   "cell_type": "code",
   "execution_count": null,
   "id": "42221ce7-c869-4a9e-941d-1fc83ce6dcee",
   "metadata": {},
   "outputs": [],
   "source": [
    "plot_functions.plot_most_popular(df, col_name='user_agent_base', rows=5);"
   ]
  },
  {
   "cell_type": "markdown",
   "id": "e04182d7-e80c-4ff0-808a-779f6de5ff35",
   "metadata": {},
   "source": [
    "Create a map of the geolocations of the users that have made the most requests. We use the subnet (first 3 of dotted quad of the ipv4 address) to try to aggregate requests from e.g. a single building/insitution"
   ]
  },
  {
   "cell_type": "code",
   "execution_count": null,
   "id": "01df62c3-a6e6-4988-9643-c083fe59f7f6",
   "metadata": {},
   "outputs": [],
   "source": [
    "plot_functions.plot_map_requests(df, aggregate_on='ip_subnet');"
   ]
  },
  {
   "cell_type": "markdown",
   "id": "bf112d0e-b878-4678-9b26-1c1ef0d22bc7",
   "metadata": {},
   "source": [
    "Get a list of the ip adddresses that made the most requests and make some more in depth plots for them"
   ]
  },
  {
   "cell_type": "code",
   "execution_count": null,
   "id": "aed0ecb7-05dd-4182-b4c4-4c333e6c9b6d",
   "metadata": {},
   "outputs": [],
   "source": [
    "dfa = plot_functions.plot_most_popular(df, col_name='ip', rows=20)"
   ]
  },
  {
   "cell_type": "code",
   "execution_count": null,
   "id": "be98bcfa-1a99-4461-9bff-290c6f163bd1",
   "metadata": {},
   "outputs": [],
   "source": [
    "import polars as pl\n",
    "\n",
    "for rank, ip in enumerate(dfa['ip'].to_list()):\n",
    "    df_sub = df.filter(pl.col('ip')==ip)\n",
    "    plot_functions.plot_for_single_ip(df_sub, f'visitor_rank_{rank}_ip_{ip}')"
   ]
  },
  {
   "cell_type": "markdown",
   "id": "b8178b82",
   "metadata": {},
   "source": [
    "# Exporting Results\n",
    "\n",
    "In order to export anonymized and aggregated results, simply call:"
   ]
  },
  {
   "cell_type": "code",
   "execution_count": null,
   "id": "21543288",
   "metadata": {},
   "outputs": [],
   "source": [
    "parser.export_data()"
   ]
  }
 ],
 "metadata": {
  "kernelspec": {
   "display_name": "Python 3 (ipykernel)",
   "language": "python",
   "name": "python3"
  },
  "language_info": {
   "codemirror_mode": {
    "name": "ipython",
    "version": 3
   },
   "file_extension": ".py",
   "mimetype": "text/x-python",
   "name": "python",
   "nbconvert_exporter": "python",
   "pygments_lexer": "ipython3",
   "version": "3.12.2"
  }
 },
 "nbformat": 4,
 "nbformat_minor": 5
}
